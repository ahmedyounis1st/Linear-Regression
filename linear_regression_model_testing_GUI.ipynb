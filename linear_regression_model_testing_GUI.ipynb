{
 "cells": [
  {
   "cell_type": "code",
   "execution_count": 1,
   "id": "48899b1a",
   "metadata": {},
   "outputs": [],
   "source": [
    "import keras as ks\n",
    "from tkinter import *\n",
    "from tkinter import ttk\n",
    "from PIL import Image, ImageTk"
   ]
  },
  {
   "cell_type": "code",
   "execution_count": 2,
   "id": "46321820",
   "metadata": {},
   "outputs": [],
   "source": [
    "model = ks.models.load_model('LR_1.h5')"
   ]
  },
  {
   "cell_type": "code",
   "execution_count": 5,
   "id": "228c9489",
   "metadata": {},
   "outputs": [],
   "source": [
    "def predict():\n",
    "    global E1, pred_label\n",
    "    X = int(E1.get())\n",
    "    y = model.predict([X])\n",
    "    pred_label = Label(frame1, text = f\"Prediction: {y}\")\n",
    "    pred_label.pack_forget()\n",
    "    pred_label.pack()"
   ]
  },
  {
   "cell_type": "code",
   "execution_count": 8,
   "id": "0dd6d1b0",
   "metadata": {},
   "outputs": [],
   "source": [
    "root = Tk()\n",
    "root.title('Linear Regression Model')\n",
    "root.minsize(755,555)\n",
    "# root.iconbitmap(\"path_to_icon\")\n",
    "\n",
    "frame1 = LabelFrame(root, text = \"Initialization \", padx= 50, pady=20)\n",
    "frame1.pack(pady = 10)\n",
    "\n",
    "L0 = Label(frame1, text = \"Linear Regression Model using Keras\")\n",
    "L0.pack()\n",
    "\n",
    "nested_frame = LabelFrame(frame1, text = \"Input Frame\", padx= 50 , pady = 10)\n",
    "nested_frame.pack()\n",
    "\n",
    "###################################\n",
    "L1 = Label(nested_frame, text = \"Enter Your Input: \", anchor = W)\n",
    "L1.grid(row = 0, column = 0 )\n",
    "\n",
    "E1 = Entry(nested_frame)\n",
    "E1.grid(row = 0, column = 1)\n",
    "E1.insert(0, \"5\")\n",
    "\n",
    "###################################\n",
    "btn1 = Button(frame1 , text = 'predict', command = predict, padx = 10, pady =10)\n",
    "btn1.pack(pady = 10)\n",
    "\n",
    "\n",
    "# Run The GUI\n",
    "root.mainloop()\n"
   ]
  },
  {
   "cell_type": "code",
   "execution_count": null,
   "id": "eafba705",
   "metadata": {},
   "outputs": [],
   "source": []
  }
 ],
 "metadata": {
  "kernelspec": {
   "display_name": "Python 3 (ipykernel)",
   "language": "python",
   "name": "python3"
  },
  "language_info": {
   "codemirror_mode": {
    "name": "ipython",
    "version": 3
   },
   "file_extension": ".py",
   "mimetype": "text/x-python",
   "name": "python",
   "nbconvert_exporter": "python",
   "pygments_lexer": "ipython3",
   "version": "3.8.5"
  }
 },
 "nbformat": 4,
 "nbformat_minor": 5
}
