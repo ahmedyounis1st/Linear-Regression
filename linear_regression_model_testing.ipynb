{
  "nbformat": 4,
  "nbformat_minor": 0,
  "metadata": {
    "colab": {
      "name": "Untitled1.ipynb",
      "provenance": []
    },
    "kernelspec": {
      "name": "python3",
      "display_name": "Python 3"
    },
    "language_info": {
      "name": "python"
    }
  },
  "cells": [
    {
      "cell_type": "code",
      "execution_count": null,
      "metadata": {
        "id": "LCMRQWLMl3CM"
      },
      "outputs": [],
      "source": [
        "import keras as ks\n",
        "from tkinter import *\n",
        "from tkinter import ttk\n",
        "from PIL import Image, ImageTk"
      ]
    },
    {
      "cell_type": "code",
      "source": [
        "model = ks.models.load_model('LR_1.h5')"
      ],
      "metadata": {
        "id": "xMJS9YfJoYIE"
      },
      "execution_count": null,
      "outputs": []
    },
    {
      "cell_type": "code",
      "source": [
        "model.predict([5])"
      ],
      "metadata": {
        "colab": {
          "base_uri": "https://localhost:8080/"
        },
        "id": "dnEUeWSMogiU",
        "outputId": "88b7d9f8-572e-4ce6-9336-ab4dd69cfc7c"
      },
      "execution_count": null,
      "outputs": [
        {
          "output_type": "execute_result",
          "data": {
            "text/plain": [
              "array([[72302.72]], dtype=float32)"
            ]
          },
          "metadata": {},
          "execution_count": 4
        }
      ]
    },
    {
      "cell_type": "code",
      "source": [
        ""
      ],
      "metadata": {
        "id": "xkhNzjPWq72U"
      },
      "execution_count": null,
      "outputs": []
    }
  ]
}